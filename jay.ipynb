{
 "cells": [
  {
   "cell_type": "code",
   "execution_count": 1,
   "id": "7ef28893-0ed0-4046-a625-bfe002107ac1",
   "metadata": {},
   "outputs": [],
   "source": [
    "import pandas as pd\n",
    "import numpy as np\n",
    "import statsmodels.api as sm\n",
    "from sklearn.feature_selection import RFE\n",
    "from sklearn.linear_model import LinearRegression\n",
    "from sklearn.feature_selection import SelectKBest\n",
    "from sklearn.linear_model import Lasso\n",
    "from sklearn.feature_selection import SelectKBest, f_regression\n",
    "from sklearn.decomposition import PCA\n",
    "import seaborn as sns\n",
    "from sklearn.preprocessing import LabelEncoder, StandardScaler\n",
    "from sklearn.feature_selection import SelectKBest, chi2\n",
    "import statsmodels.api as sm\n",
    "from sklearn.linear_model import Lasso\n",
    "from sklearn.metrics import r2_score"
   ]
  },
  {
   "cell_type": "code",
   "execution_count": 2,
   "id": "7a67be03-3283-4d7d-a5de-5370b0ec8c20",
   "metadata": {},
   "outputs": [
    {
     "data": {
      "text/html": [
       "<div>\n",
       "<style scoped>\n",
       "    .dataframe tbody tr th:only-of-type {\n",
       "        vertical-align: middle;\n",
       "    }\n",
       "\n",
       "    .dataframe tbody tr th {\n",
       "        vertical-align: top;\n",
       "    }\n",
       "\n",
       "    .dataframe thead th {\n",
       "        text-align: right;\n",
       "    }\n",
       "</style>\n",
       "<table border=\"1\" class=\"dataframe\">\n",
       "  <thead>\n",
       "    <tr style=\"text-align: right;\">\n",
       "      <th></th>\n",
       "      <th>state</th>\n",
       "      <th>sat</th>\n",
       "      <th>takers</th>\n",
       "      <th>income</th>\n",
       "      <th>years</th>\n",
       "      <th>public</th>\n",
       "      <th>expend</th>\n",
       "      <th>rank</th>\n",
       "    </tr>\n",
       "  </thead>\n",
       "  <tbody>\n",
       "    <tr>\n",
       "      <th>0</th>\n",
       "      <td>Iowa</td>\n",
       "      <td>1088</td>\n",
       "      <td>3</td>\n",
       "      <td>326</td>\n",
       "      <td>16.79</td>\n",
       "      <td>87.8</td>\n",
       "      <td>25.60</td>\n",
       "      <td>89.7</td>\n",
       "    </tr>\n",
       "    <tr>\n",
       "      <th>1</th>\n",
       "      <td>SouthDakota</td>\n",
       "      <td>1075</td>\n",
       "      <td>2</td>\n",
       "      <td>264</td>\n",
       "      <td>16.07</td>\n",
       "      <td>86.2</td>\n",
       "      <td>19.95</td>\n",
       "      <td>90.6</td>\n",
       "    </tr>\n",
       "    <tr>\n",
       "      <th>2</th>\n",
       "      <td>NorthDakota</td>\n",
       "      <td>1068</td>\n",
       "      <td>3</td>\n",
       "      <td>317</td>\n",
       "      <td>16.57</td>\n",
       "      <td>88.3</td>\n",
       "      <td>20.62</td>\n",
       "      <td>89.8</td>\n",
       "    </tr>\n",
       "    <tr>\n",
       "      <th>3</th>\n",
       "      <td>Kansas</td>\n",
       "      <td>1045</td>\n",
       "      <td>5</td>\n",
       "      <td>338</td>\n",
       "      <td>16.30</td>\n",
       "      <td>83.9</td>\n",
       "      <td>27.14</td>\n",
       "      <td>86.3</td>\n",
       "    </tr>\n",
       "    <tr>\n",
       "      <th>4</th>\n",
       "      <td>Nebraska</td>\n",
       "      <td>1045</td>\n",
       "      <td>5</td>\n",
       "      <td>293</td>\n",
       "      <td>17.25</td>\n",
       "      <td>83.6</td>\n",
       "      <td>21.05</td>\n",
       "      <td>88.5</td>\n",
       "    </tr>\n",
       "  </tbody>\n",
       "</table>\n",
       "</div>"
      ],
      "text/plain": [
       "         state   sat  takers  income  years  public  expend  rank\n",
       "0         Iowa  1088       3     326  16.79    87.8   25.60  89.7\n",
       "1  SouthDakota  1075       2     264  16.07    86.2   19.95  90.6\n",
       "2  NorthDakota  1068       3     317  16.57    88.3   20.62  89.8\n",
       "3       Kansas  1045       5     338  16.30    83.9   27.14  86.3\n",
       "4     Nebraska  1045       5     293  17.25    83.6   21.05  88.5"
      ]
     },
     "execution_count": 2,
     "metadata": {},
     "output_type": "execute_result"
    }
   ],
   "source": [
    "df = pd.read_csv('/Users/Satishkumarreddy/Desktop/SAT.csv', sep=' ', skipinitialspace=True)\n",
    "df.head()"
   ]
  },
  {
   "cell_type": "code",
   "execution_count": 3,
   "id": "580af30d-ad5d-467a-a39e-57441a8cfbe1",
   "metadata": {},
   "outputs": [
    {
     "data": {
      "text/html": [
       "<div>\n",
       "<style scoped>\n",
       "    .dataframe tbody tr th:only-of-type {\n",
       "        vertical-align: middle;\n",
       "    }\n",
       "\n",
       "    .dataframe tbody tr th {\n",
       "        vertical-align: top;\n",
       "    }\n",
       "\n",
       "    .dataframe thead th {\n",
       "        text-align: right;\n",
       "    }\n",
       "</style>\n",
       "<table border=\"1\" class=\"dataframe\">\n",
       "  <thead>\n",
       "    <tr style=\"text-align: right;\">\n",
       "      <th></th>\n",
       "      <th>count</th>\n",
       "      <th>mean</th>\n",
       "      <th>std</th>\n",
       "      <th>min</th>\n",
       "      <th>25%</th>\n",
       "      <th>50%</th>\n",
       "      <th>75%</th>\n",
       "      <th>max</th>\n",
       "    </tr>\n",
       "  </thead>\n",
       "  <tbody>\n",
       "    <tr>\n",
       "      <th>sat</th>\n",
       "      <td>50.0</td>\n",
       "      <td>947.9400</td>\n",
       "      <td>70.856397</td>\n",
       "      <td>790.00</td>\n",
       "      <td>889.2500</td>\n",
       "      <td>966.00</td>\n",
       "      <td>998.5000</td>\n",
       "      <td>1088.00</td>\n",
       "    </tr>\n",
       "    <tr>\n",
       "      <th>takers</th>\n",
       "      <td>50.0</td>\n",
       "      <td>26.2200</td>\n",
       "      <td>22.022521</td>\n",
       "      <td>2.00</td>\n",
       "      <td>6.2500</td>\n",
       "      <td>16.00</td>\n",
       "      <td>47.7500</td>\n",
       "      <td>69.00</td>\n",
       "    </tr>\n",
       "    <tr>\n",
       "      <th>income</th>\n",
       "      <td>50.0</td>\n",
       "      <td>293.9800</td>\n",
       "      <td>43.693034</td>\n",
       "      <td>208.00</td>\n",
       "      <td>261.5000</td>\n",
       "      <td>295.00</td>\n",
       "      <td>325.0000</td>\n",
       "      <td>401.00</td>\n",
       "    </tr>\n",
       "    <tr>\n",
       "      <th>years</th>\n",
       "      <td>50.0</td>\n",
       "      <td>16.2092</td>\n",
       "      <td>0.699982</td>\n",
       "      <td>14.39</td>\n",
       "      <td>15.9100</td>\n",
       "      <td>16.36</td>\n",
       "      <td>16.7575</td>\n",
       "      <td>17.41</td>\n",
       "    </tr>\n",
       "    <tr>\n",
       "      <th>public</th>\n",
       "      <td>50.0</td>\n",
       "      <td>81.2040</td>\n",
       "      <td>9.830917</td>\n",
       "      <td>44.80</td>\n",
       "      <td>76.9250</td>\n",
       "      <td>80.80</td>\n",
       "      <td>88.2500</td>\n",
       "      <td>97.00</td>\n",
       "    </tr>\n",
       "    <tr>\n",
       "      <th>expend</th>\n",
       "      <td>50.0</td>\n",
       "      <td>22.9656</td>\n",
       "      <td>6.144932</td>\n",
       "      <td>13.84</td>\n",
       "      <td>19.5925</td>\n",
       "      <td>21.61</td>\n",
       "      <td>26.3875</td>\n",
       "      <td>50.10</td>\n",
       "    </tr>\n",
       "    <tr>\n",
       "      <th>rank</th>\n",
       "      <td>50.0</td>\n",
       "      <td>79.9880</td>\n",
       "      <td>6.523072</td>\n",
       "      <td>69.80</td>\n",
       "      <td>74.0250</td>\n",
       "      <td>80.85</td>\n",
       "      <td>85.8250</td>\n",
       "      <td>90.60</td>\n",
       "    </tr>\n",
       "  </tbody>\n",
       "</table>\n",
       "</div>"
      ],
      "text/plain": [
       "        count      mean        std     min       25%     50%       75%  \\\n",
       "sat      50.0  947.9400  70.856397  790.00  889.2500  966.00  998.5000   \n",
       "takers   50.0   26.2200  22.022521    2.00    6.2500   16.00   47.7500   \n",
       "income   50.0  293.9800  43.693034  208.00  261.5000  295.00  325.0000   \n",
       "years    50.0   16.2092   0.699982   14.39   15.9100   16.36   16.7575   \n",
       "public   50.0   81.2040   9.830917   44.80   76.9250   80.80   88.2500   \n",
       "expend   50.0   22.9656   6.144932   13.84   19.5925   21.61   26.3875   \n",
       "rank     50.0   79.9880   6.523072   69.80   74.0250   80.85   85.8250   \n",
       "\n",
       "            max  \n",
       "sat     1088.00  \n",
       "takers    69.00  \n",
       "income   401.00  \n",
       "years     17.41  \n",
       "public    97.00  \n",
       "expend    50.10  \n",
       "rank      90.60  "
      ]
     },
     "execution_count": 3,
     "metadata": {},
     "output_type": "execute_result"
    }
   ],
   "source": [
    "df.describe().T #summary statistics"
   ]
  },
  {
   "cell_type": "code",
   "execution_count": 4,
   "id": "5f6ec591-7c68-43ff-9fd0-6f7a06c90ca3",
   "metadata": {},
   "outputs": [
    {
     "data": {
      "text/plain": [
       "<seaborn.axisgrid.PairGrid at 0x7f8d1863d190>"
      ]
     },
     "execution_count": 4,
     "metadata": {},
     "output_type": "execute_result"
    },
    {
     "data": {
      "image/png": "[encoded data removed]",
      "text/plain": [
       "<Figure size 756x756 with 56 Axes>"
      ]
     },
     "metadata": {
      "needs_background": "light"
     },
     "output_type": "display_data"
    }
   ],
   "source": [
    "sns.pairplot(data=df, height=1.5)"
   ]
  },
  {
   "cell_type": "code",
   "execution_count": 5,
   "id": "1b09ff1c-4dfb-4d93-84e8-c4b78f922c57",
   "metadata": {},
   "outputs": [],
   "source": [
    "y = df.iloc[:, 1].values.reshape(-1,1)"
   ]
  },
  {
   "cell_type": "code",
   "execution_count": 6,
   "id": "65bd0ffc-e1dd-4626-b4c8-b0c933555d12",
   "metadata": {},
   "outputs": [
    {
     "data": {
      "text/html": [
       "<div>\n",
       "<style scoped>\n",
       "    .dataframe tbody tr th:only-of-type {\n",
       "        vertical-align: middle;\n",
       "    }\n",
       "\n",
       "    .dataframe tbody tr th {\n",
       "        vertical-align: top;\n",
       "    }\n",
       "\n",
       "    .dataframe thead th {\n",
       "        text-align: right;\n",
       "    }\n",
       "</style>\n",
       "<table border=\"1\" class=\"dataframe\">\n",
       "  <thead>\n",
       "    <tr style=\"text-align: right;\">\n",
       "      <th></th>\n",
       "      <th>0</th>\n",
       "      <th>1</th>\n",
       "    </tr>\n",
       "  </thead>\n",
       "  <tbody>\n",
       "    <tr>\n",
       "      <th>0</th>\n",
       "      <td>1.0</td>\n",
       "      <td>3.0</td>\n",
       "    </tr>\n",
       "    <tr>\n",
       "      <th>1</th>\n",
       "      <td>1.0</td>\n",
       "      <td>2.0</td>\n",
       "    </tr>\n",
       "    <tr>\n",
       "      <th>2</th>\n",
       "      <td>1.0</td>\n",
       "      <td>3.0</td>\n",
       "    </tr>\n",
       "    <tr>\n",
       "      <th>3</th>\n",
       "      <td>1.0</td>\n",
       "      <td>5.0</td>\n",
       "    </tr>\n",
       "    <tr>\n",
       "      <th>4</th>\n",
       "      <td>1.0</td>\n",
       "      <td>5.0</td>\n",
       "    </tr>\n",
       "  </tbody>\n",
       "</table>\n",
       "</div>"
      ],
      "text/plain": [
       "     0    1\n",
       "0  1.0  3.0\n",
       "1  1.0  2.0\n",
       "2  1.0  3.0\n",
       "3  1.0  5.0\n",
       "4  1.0  5.0"
      ]
     },
     "execution_count": 6,
     "metadata": {},
     "output_type": "execute_result"
    }
   ],
   "source": [
    "X1=sm.add_constant(df.iloc[:,2].values)\n",
    "foo=pd.DataFrame(X1)\n",
    "foo.head()"
   ]
  },
  {
   "cell_type": "code",
   "execution_count": 7,
   "id": "f9fe7eb1-4848-4342-b83c-0d40cec7f501",
   "metadata": {},
   "outputs": [
    {
     "data": {
      "text/html": [
       "<div>\n",
       "<style scoped>\n",
       "    .dataframe tbody tr th:only-of-type {\n",
       "        vertical-align: middle;\n",
       "    }\n",
       "\n",
       "    .dataframe tbody tr th {\n",
       "        vertical-align: top;\n",
       "    }\n",
       "\n",
       "    .dataframe thead th {\n",
       "        text-align: right;\n",
       "    }\n",
       "</style>\n",
       "<table border=\"1\" class=\"dataframe\">\n",
       "  <thead>\n",
       "    <tr style=\"text-align: right;\">\n",
       "      <th></th>\n",
       "      <th>0</th>\n",
       "      <th>1</th>\n",
       "      <th>2</th>\n",
       "      <th>3</th>\n",
       "      <th>4</th>\n",
       "      <th>5</th>\n",
       "      <th>6</th>\n",
       "    </tr>\n",
       "  </thead>\n",
       "  <tbody>\n",
       "    <tr>\n",
       "      <th>0</th>\n",
       "      <td>1.0</td>\n",
       "      <td>3.0</td>\n",
       "      <td>326.0</td>\n",
       "      <td>16.79</td>\n",
       "      <td>87.8</td>\n",
       "      <td>25.60</td>\n",
       "      <td>89.7</td>\n",
       "    </tr>\n",
       "    <tr>\n",
       "      <th>1</th>\n",
       "      <td>1.0</td>\n",
       "      <td>2.0</td>\n",
       "      <td>264.0</td>\n",
       "      <td>16.07</td>\n",
       "      <td>86.2</td>\n",
       "      <td>19.95</td>\n",
       "      <td>90.6</td>\n",
       "    </tr>\n",
       "    <tr>\n",
       "      <th>2</th>\n",
       "      <td>1.0</td>\n",
       "      <td>3.0</td>\n",
       "      <td>317.0</td>\n",
       "      <td>16.57</td>\n",
       "      <td>88.3</td>\n",
       "      <td>20.62</td>\n",
       "      <td>89.8</td>\n",
       "    </tr>\n",
       "    <tr>\n",
       "      <th>3</th>\n",
       "      <td>1.0</td>\n",
       "      <td>5.0</td>\n",
       "      <td>338.0</td>\n",
       "      <td>16.30</td>\n",
       "      <td>83.9</td>\n",
       "      <td>27.14</td>\n",
       "      <td>86.3</td>\n",
       "    </tr>\n",
       "    <tr>\n",
       "      <th>4</th>\n",
       "      <td>1.0</td>\n",
       "      <td>5.0</td>\n",
       "      <td>293.0</td>\n",
       "      <td>17.25</td>\n",
       "      <td>83.6</td>\n",
       "      <td>21.05</td>\n",
       "      <td>88.5</td>\n",
       "    </tr>\n",
       "  </tbody>\n",
       "</table>\n",
       "</div>"
      ],
      "text/plain": [
       "     0    1      2      3     4      5     6\n",
       "0  1.0  3.0  326.0  16.79  87.8  25.60  89.7\n",
       "1  1.0  2.0  264.0  16.07  86.2  19.95  90.6\n",
       "2  1.0  3.0  317.0  16.57  88.3  20.62  89.8\n",
       "3  1.0  5.0  338.0  16.30  83.9  27.14  86.3\n",
       "4  1.0  5.0  293.0  17.25  83.6  21.05  88.5"
      ]
     },
     "execution_count": 7,
     "metadata": {},
     "output_type": "execute_result"
    }
   ],
   "source": [
    "X2=sm.add_constant(df.iloc[:, 2:].values)\n",
    "foo=pd.DataFrame(X2)\n",
    "foo.head()"
   ]
  },
  {
   "cell_type": "code",
   "execution_count": 8,
   "id": "8a6ff408-1877-4b7b-a6fa-2f4f57cd062e",
   "metadata": {},
   "outputs": [
    {
     "data": {
      "text/html": [
       "<table class=\"simpletable\">\n",
       "<caption>OLS Regression Results</caption>\n",
       "<tr>\n",
       "  <th>Dep. Variable:</th>            <td>y</td>        <th>  R-squared:         </th> <td>   0.736</td>\n",
       "</tr>\n",
       "<tr>\n",
       "  <th>Model:</th>                   <td>OLS</td>       <th>  Adj. R-squared:    </th> <td>   0.730</td>\n",
       "</tr>\n",
       "<tr>\n",
       "  <th>Method:</th>             <td>Least Squares</td>  <th>  F-statistic:       </th> <td>   133.7</td>\n",
       "</tr>\n",
       "<tr>\n",
       "  <th>Date:</th>             <td>Tue, 25 Apr 2023</td> <th>  Prob (F-statistic):</th> <td>1.77e-15</td>\n",
       "</tr>\n",
       "<tr>\n",
       "  <th>Time:</th>                 <td>01:33:17</td>     <th>  Log-Likelihood:    </th> <td> -250.19</td>\n",
       "</tr>\n",
       "<tr>\n",
       "  <th>No. Observations:</th>      <td>    50</td>      <th>  AIC:               </th> <td>   504.4</td>\n",
       "</tr>\n",
       "<tr>\n",
       "  <th>Df Residuals:</th>          <td>    48</td>      <th>  BIC:               </th> <td>   508.2</td>\n",
       "</tr>\n",
       "<tr>\n",
       "  <th>Df Model:</th>              <td>     1</td>      <th>                     </th>     <td> </td>   \n",
       "</tr>\n",
       "<tr>\n",
       "  <th>Covariance Type:</th>      <td>nonrobust</td>    <th>                     </th>     <td> </td>   \n",
       "</tr>\n",
       "</table>\n",
       "<table class=\"simpletable\">\n",
       "<tr>\n",
       "      <td></td>         <th>coef</th>     <th>std err</th>      <th>t</th>      <th>P>|t|</th>  <th>[0.025</th>    <th>0.975]</th>  \n",
       "</tr>\n",
       "<tr>\n",
       "  <th>intercept</th> <td> 1020.3062</td> <td>    8.139</td> <td>  125.359</td> <td> 0.000</td> <td> 1003.941</td> <td> 1036.671</td>\n",
       "</tr>\n",
       "<tr>\n",
       "  <th>takers</th>    <td>   -2.7600</td> <td>    0.239</td> <td>  -11.563</td> <td> 0.000</td> <td>   -3.240</td> <td>   -2.280</td>\n",
       "</tr>\n",
       "</table>\n",
       "<table class=\"simpletable\">\n",
       "<tr>\n",
       "  <th>Omnibus:</th>       <td> 0.370</td> <th>  Durbin-Watson:     </th> <td>   0.764</td>\n",
       "</tr>\n",
       "<tr>\n",
       "  <th>Prob(Omnibus):</th> <td> 0.831</td> <th>  Jarque-Bera (JB):  </th> <td>   0.144</td>\n",
       "</tr>\n",
       "<tr>\n",
       "  <th>Skew:</th>          <td>-0.131</td> <th>  Prob(JB):          </th> <td>   0.931</td>\n",
       "</tr>\n",
       "<tr>\n",
       "  <th>Kurtosis:</th>      <td> 3.011</td> <th>  Cond. No.          </th> <td>    53.4</td>\n",
       "</tr>\n",
       "</table><br/><br/>Notes:<br/>[1] Standard Errors assume that the covariance matrix of the errors is correctly specified."
      ],
      "text/plain": [
       "<class 'statsmodels.iolib.summary.Summary'>\n",
       "\"\"\"\n",
       "                            OLS Regression Results                            \n",
       "==============================================================================\n",
       "Dep. Variable:                      y   R-squared:                       0.736\n",
       "Model:                            OLS   Adj. R-squared:                  0.730\n",
       "Method:                 Least Squares   F-statistic:                     133.7\n",
       "Date:                Tue, 25 Apr 2023   Prob (F-statistic):           1.77e-15\n",
       "Time:                        01:33:17   Log-Likelihood:                -250.19\n",
       "No. Observations:                  50   AIC:                             504.4\n",
       "Df Residuals:                      48   BIC:                             508.2\n",
       "Df Model:                           1                                         \n",
       "Covariance Type:            nonrobust                                         \n",
       "==============================================================================\n",
       "                 coef    std err          t      P>|t|      [0.025      0.975]\n",
       "------------------------------------------------------------------------------\n",
       "intercept   1020.3062      8.139    125.359      0.000    1003.941    1036.671\n",
       "takers        -2.7600      0.239    -11.563      0.000      -3.240      -2.280\n",
       "==============================================================================\n",
       "Omnibus:                        0.370   Durbin-Watson:                   0.764\n",
       "Prob(Omnibus):                  0.831   Jarque-Bera (JB):                0.144\n",
       "Skew:                          -0.131   Prob(JB):                        0.931\n",
       "Kurtosis:                       3.011   Cond. No.                         53.4\n",
       "==============================================================================\n",
       "\n",
       "Notes:\n",
       "[1] Standard Errors assume that the covariance matrix of the errors is correctly specified.\n",
       "\"\"\""
      ]
     },
     "execution_count": 8,
     "metadata": {},
     "output_type": "execute_result"
    }
   ],
   "source": [
    "model1 = sm.OLS(y,X1).fit()\n",
    "model1.summary(xname=['intercept','takers'])"
   ]
  },
  {
   "cell_type": "code",
   "execution_count": 9,
   "id": "4c790b9f-35f8-4e9b-a7f3-f457307857cb",
   "metadata": {},
   "outputs": [
    {
     "data": {
      "text/plain": [
       "1353.8901619553137"
      ]
     },
     "execution_count": 9,
     "metadata": {},
     "output_type": "execute_result"
    }
   ],
   "source": [
    "#variance of the model\n",
    "model1.mse_resid"
   ]
  },
  {
   "cell_type": "code",
   "execution_count": 10,
   "id": "59551d07-34fb-4c9a-a18a-64514e59b6bb",
   "metadata": {},
   "outputs": [
    {
     "data": {
      "text/html": [
       "<table class=\"simpletable\">\n",
       "<caption>OLS Regression Results</caption>\n",
       "<tr>\n",
       "  <th>Dep. Variable:</th>            <td>y</td>        <th>  R-squared:         </th> <td>   0.879</td>\n",
       "</tr>\n",
       "<tr>\n",
       "  <th>Model:</th>                   <td>OLS</td>       <th>  Adj. R-squared:    </th> <td>   0.862</td>\n",
       "</tr>\n",
       "<tr>\n",
       "  <th>Method:</th>             <td>Least Squares</td>  <th>  F-statistic:       </th> <td>   51.91</td>\n",
       "</tr>\n",
       "<tr>\n",
       "  <th>Date:</th>             <td>Tue, 25 Apr 2023</td> <th>  Prob (F-statistic):</th> <td>4.16e-18</td>\n",
       "</tr>\n",
       "<tr>\n",
       "  <th>Time:</th>                 <td>01:33:17</td>     <th>  Log-Likelihood:    </th> <td> -230.74</td>\n",
       "</tr>\n",
       "<tr>\n",
       "  <th>No. Observations:</th>      <td>    50</td>      <th>  AIC:               </th> <td>   475.5</td>\n",
       "</tr>\n",
       "<tr>\n",
       "  <th>Df Residuals:</th>          <td>    43</td>      <th>  BIC:               </th> <td>   488.9</td>\n",
       "</tr>\n",
       "<tr>\n",
       "  <th>Df Model:</th>              <td>     6</td>      <th>                     </th>     <td> </td>   \n",
       "</tr>\n",
       "<tr>\n",
       "  <th>Covariance Type:</th>      <td>nonrobust</td>    <th>                     </th>     <td> </td>   \n",
       "</tr>\n",
       "</table>\n",
       "<table class=\"simpletable\">\n",
       "<tr>\n",
       "      <td></td>         <th>coef</th>     <th>std err</th>      <th>t</th>      <th>P>|t|</th>  <th>[0.025</th>    <th>0.975]</th>  \n",
       "</tr>\n",
       "<tr>\n",
       "  <th>intercept</th> <td>  -94.6591</td> <td>  211.510</td> <td>   -0.448</td> <td> 0.657</td> <td> -521.209</td> <td>  331.891</td>\n",
       "</tr>\n",
       "<tr>\n",
       "  <th>takers</th>    <td>   -0.4801</td> <td>    0.694</td> <td>   -0.692</td> <td> 0.493</td> <td>   -1.879</td> <td>    0.919</td>\n",
       "</tr>\n",
       "<tr>\n",
       "  <th>income</th>    <td>   -0.0082</td> <td>    0.152</td> <td>   -0.054</td> <td> 0.957</td> <td>   -0.315</td> <td>    0.299</td>\n",
       "</tr>\n",
       "<tr>\n",
       "  <th>years</th>     <td>   22.6101</td> <td>    6.315</td> <td>    3.581</td> <td> 0.001</td> <td>    9.876</td> <td>   35.345</td>\n",
       "</tr>\n",
       "<tr>\n",
       "  <th>public</th>    <td>   -0.4642</td> <td>    0.579</td> <td>   -0.802</td> <td> 0.427</td> <td>   -1.632</td> <td>    0.704</td>\n",
       "</tr>\n",
       "<tr>\n",
       "  <th>expend</th>    <td>    2.2120</td> <td>    0.846</td> <td>    2.615</td> <td> 0.012</td> <td>    0.506</td> <td>    3.918</td>\n",
       "</tr>\n",
       "<tr>\n",
       "  <th>rank</th>      <td>    8.4762</td> <td>    2.108</td> <td>    4.021</td> <td> 0.000</td> <td>    4.225</td> <td>   12.727</td>\n",
       "</tr>\n",
       "</table>\n",
       "<table class=\"simpletable\">\n",
       "<tr>\n",
       "  <th>Omnibus:</th>       <td> 3.692</td> <th>  Durbin-Watson:     </th> <td>   1.497</td>\n",
       "</tr>\n",
       "<tr>\n",
       "  <th>Prob(Omnibus):</th> <td> 0.158</td> <th>  Jarque-Bera (JB):  </th> <td>   2.957</td>\n",
       "</tr>\n",
       "<tr>\n",
       "  <th>Skew:</th>          <td>-0.591</td> <th>  Prob(JB):          </th> <td>   0.228</td>\n",
       "</tr>\n",
       "<tr>\n",
       "  <th>Kurtosis:</th>      <td> 3.152</td> <th>  Cond. No.          </th> <td>1.82e+04</td>\n",
       "</tr>\n",
       "</table><br/><br/>Notes:<br/>[1] Standard Errors assume that the covariance matrix of the errors is correctly specified.<br/>[2] The condition number is large, 1.82e+04. This might indicate that there are<br/>strong multicollinearity or other numerical problems."
      ],
      "text/plain": [
       "<class 'statsmodels.iolib.summary.Summary'>\n",
       "\"\"\"\n",
       "                            OLS Regression Results                            \n",
       "==============================================================================\n",
       "Dep. Variable:                      y   R-squared:                       0.879\n",
       "Model:                            OLS   Adj. R-squared:                  0.862\n",
       "Method:                 Least Squares   F-statistic:                     51.91\n",
       "Date:                Tue, 25 Apr 2023   Prob (F-statistic):           4.16e-18\n",
       "Time:                        01:33:17   Log-Likelihood:                -230.74\n",
       "No. Observations:                  50   AIC:                             475.5\n",
       "Df Residuals:                      43   BIC:                             488.9\n",
       "Df Model:                           6                                         \n",
       "Covariance Type:            nonrobust                                         \n",
       "==============================================================================\n",
       "                 coef    std err          t      P>|t|      [0.025      0.975]\n",
       "------------------------------------------------------------------------------\n",
       "intercept    -94.6591    211.510     -0.448      0.657    -521.209     331.891\n",
       "takers        -0.4801      0.694     -0.692      0.493      -1.879       0.919\n",
       "income        -0.0082      0.152     -0.054      0.957      -0.315       0.299\n",
       "years         22.6101      6.315      3.581      0.001       9.876      35.345\n",
       "public        -0.4642      0.579     -0.802      0.427      -1.632       0.704\n",
       "expend         2.2120      0.846      2.615      0.012       0.506       3.918\n",
       "rank           8.4762      2.108      4.021      0.000       4.225      12.727\n",
       "==============================================================================\n",
       "Omnibus:                        3.692   Durbin-Watson:                   1.497\n",
       "Prob(Omnibus):                  0.158   Jarque-Bera (JB):                2.957\n",
       "Skew:                          -0.591   Prob(JB):                        0.228\n",
       "Kurtosis:                       3.152   Cond. No.                     1.82e+04\n",
       "==============================================================================\n",
       "\n",
       "Notes:\n",
       "[1] Standard Errors assume that the covariance matrix of the errors is correctly specified.\n",
       "[2] The condition number is large, 1.82e+04. This might indicate that there are\n",
       "strong multicollinearity or other numerical problems.\n",
       "\"\"\""
      ]
     },
     "execution_count": 10,
     "metadata": {},
     "output_type": "execute_result"
    }
   ],
   "source": [
    "#Full Regression Model\n",
    "\n",
    "model2 = sm.OLS(y,X2).fit()\n",
    "model2.summary(xname=['intercept','takers', 'income', 'years', 'public','expend','rank'])"
   ]
  },
  {
   "cell_type": "markdown",
   "id": "54be6964-0b1e-4119-969d-f92c87da8c1e",
   "metadata": {},
   "source": [
    "#variance of the model\n",
    "model2.mse_resid"
   ]
  },
  {
   "cell_type": "markdown",
   "id": "15c57da0-1033-4b3b-ace2-e005625706c7",
   "metadata": {},
   "source": [
    "<h2> Filter Methods </h2>"
   ]
  },
  {
   "cell_type": "code",
   "execution_count": 11,
   "id": "51ee50b6-9f54-47ab-b861-082ede3e5eaf",
   "metadata": {},
   "outputs": [],
   "source": [
    "X = df.drop({'state','sat'}, axis=1)"
   ]
  },
  {
   "cell_type": "code",
   "execution_count": 12,
   "id": "b1e780e9-e59d-4925-8ac7-0122f076aa74",
   "metadata": {},
   "outputs": [],
   "source": [
    "y = df['sat']"
   ]
  },
  {
   "cell_type": "code",
   "execution_count": 13,
   "id": "60bbf5a8-aae0-40f9-8dad-65aca6b8823d",
   "metadata": {},
   "outputs": [],
   "source": [
    "def filter_chi_squared(data, target, k=3):\n",
    "    chi2_selector = SelectKBest(chi2, k=k)\n",
    "    X_chi2 = chi2_selector.fit_transform(data, target)\n",
    "    selected_features = data.columns[chi2_selector.get_support()]\n",
    "\n",
    "    lr = LinearRegression().fit(X_chi2, target)\n",
    "    y_pred_chi2 = lr.predict(X_chi2)\n",
    "    r2_chi2 = r2_score(target, y_pred_chi2)\n",
    "\n",
    "    return selected_features, r2_chi2"
   ]
  },
  {
   "cell_type": "code",
   "execution_count": 14,
   "id": "e6bd7151-d594-4263-aa46-b9eef74afc35",
   "metadata": {},
   "outputs": [
    {
     "data": {
      "text/plain": [
       "(Index(['takers', 'income', 'expend'], dtype='object'), 0.7759281497317616)"
      ]
     },
     "execution_count": 14,
     "metadata": {},
     "output_type": "execute_result"
    }
   ],
   "source": [
    "filter_chi_squared(X, y)"
   ]
  },
  {
   "cell_type": "markdown",
   "id": "171d4374-a2ea-4191-bd37-cde7ba0baf9b",
   "metadata": {},
   "source": [
    "<b>Filter method (Chi-squared Test): This method selected 'takers', 'income', and 'expend' as the most important features, with an R^2 score of 0.776 (77.6%). This indicates that these features can explain 77.6% of the variance in the target variable.</b>"
   ]
  },
  {
   "cell_type": "markdown",
   "id": "b6ab576c-131b-4bae-8ec8-33d524a778a3",
   "metadata": {},
   "source": [
    "<h2> Warppper Methods </h2>"
   ]
  },
  {
   "cell_type": "code",
   "execution_count": 15,
   "id": "4de49fdd-a6da-401e-8269-3c51cae466f4",
   "metadata": {},
   "outputs": [],
   "source": [
    "def backward_elimination(data, target, significance_level=0.05):\n",
    "    features = data.columns.tolist()\n",
    "    while len(features) > 0:\n",
    "        features_with_constant = sm.add_constant(data[features])\n",
    "        p_values = sm.OLS(target, features_with_constant).fit().pvalues[1:]\n",
    "        max_p_value = p_values.max()\n",
    "        if max_p_value >= significance_level:\n",
    "            excluded_feature = p_values.idxmax()\n",
    "            features.remove(excluded_feature)\n",
    "        else:\n",
    "            break\n",
    "    return features"
   ]
  },
  {
   "cell_type": "code",
   "execution_count": 16,
   "id": "baab0597-96bb-48c7-9dbd-0a2a4c9c48d0",
   "metadata": {},
   "outputs": [],
   "source": [
    "def wrapper_backward_elimination(data, target, significance_level=0.05):\n",
    "    selected_features = backward_elimination(data, target, significance_level)\n",
    "    X_backward = data[selected_features]\n",
    "\n",
    "    lr = LinearRegression().fit(X_backward, target)\n",
    "    y_pred_backward = lr.predict(X_backward)\n",
    "    r2_backward = r2_score(target, y_pred_backward)\n",
    "\n",
    "    return selected_features, r2_backward"
   ]
  },
  {
   "cell_type": "code",
   "execution_count": 17,
   "id": "d782013b-a043-4432-bfaf-3435d084e49a",
   "metadata": {},
   "outputs": [],
   "source": [
    "import warnings\n",
    "from warnings import simplefilter\n",
    "\n",
    "# Ignore FutureWarning\n",
    "simplefilter(action='ignore', category=FutureWarning)"
   ]
  },
  {
   "cell_type": "code",
   "execution_count": 18,
   "id": "82d634e9-e8f1-47e2-a9ce-13f162d5e219",
   "metadata": {},
   "outputs": [
    {
     "data": {
      "text/plain": [
       "(['years', 'expend', 'rank'], 0.8711105337881823)"
      ]
     },
     "execution_count": 18,
     "metadata": {},
     "output_type": "execute_result"
    }
   ],
   "source": [
    "wrapper_backward_elimination(X,y)"
   ]
  },
  {
   "cell_type": "markdown",
   "id": "71b11e34-f84d-4d01-a869-973c162d6123",
   "metadata": {},
   "source": [
    "<b>Wrapper method (Backward Elimination): The method identified 'years', 'expend', and 'rank' as the most significant features and achieved an R^2 score of 0.871 (87.1%). This suggests that these features can explain 87.1% of the variance in the target variable.</b>"
   ]
  },
  {
   "cell_type": "markdown",
   "id": "c5284550-e1ea-4b2b-9344-941706cd7592",
   "metadata": {},
   "source": [
    "<h2> Embedded Method </h2>"
   ]
  },
  {
   "cell_type": "code",
   "execution_count": 19,
   "id": "35e1bfa2-67a1-4dfd-bde2-67740603386d",
   "metadata": {},
   "outputs": [],
   "source": [
    "def embedded_lasso(data, target, alpha=1.0):\n",
    "    lasso = Lasso(alpha=alpha)\n",
    "    lasso.fit(data, target)\n",
    "    selected_features = data.columns[lasso.coef_ != 0]\n",
    "\n",
    "    y_pred_lasso = lasso.predict(data[selected_features])\n",
    "    r2_lasso = r2_score(target, y_pred_lasso)\n",
    "\n",
    "    return selected_features, r2_lasso"
   ]
  },
  {
   "cell_type": "code",
   "execution_count": 20,
   "id": "5271e84f-35d5-406f-bfb8-0af16401eb9f",
   "metadata": {},
   "outputs": [
    {
     "data": {
      "text/plain": [
       "(Index(['takers', 'income', 'years', 'public', 'expend', 'rank'], dtype='object'),\n",
       " 0.8781987462097269)"
      ]
     },
     "execution_count": 20,
     "metadata": {},
     "output_type": "execute_result"
    }
   ],
   "source": [
    "embedded_lasso(X,y)"
   ]
  },
  {
   "cell_type": "markdown",
   "id": "d35f73f1-a532-4612-a1ca-fe04362ca372",
   "metadata": {},
   "source": [
    "<b>Embedded method (Lasso Regression): The Lasso Regression model selected all the features ('takers', 'income', 'years', 'public', 'expend', and 'rank') and obtained an R^2 score of 0.878 (87.8%). This means that the model, using all the features, can explain 87.8% of the variance in the target variable.</b>"
   ]
  },
  {
   "cell_type": "markdown",
   "id": "91978915-d5e3-4911-b22d-fa1af9cd6a0f",
   "metadata": {},
   "source": [
    "# Conclusion"
   ]
  },
  {
   "cell_type": "markdown",
   "id": "8ea4c3ab-0685-4b83-8291-e874f7e83812",
   "metadata": {},
   "source": [
    "If we prioritize model simplicity and interpretability, we may choose the Filter method, as it uses fewer features with a relatively good performance. However, if our goal is to achieve the highest possible prediction accuracy, we should consider the Embedded method (Lasso Regression), as it has the highest R^2 score."
   ]
  },
  {
   "cell_type": "markdown",
   "id": "8b305ab9-c598-4ca2-95c6-fc0bacf88ecc",
   "metadata": {},
   "source": [
    "<h2> Bonus Question (PCA) </h2>"
   ]
  },
  {
   "cell_type": "code",
   "execution_count": 21,
   "id": "4c3548f6-85c6-46a0-a1a7-4f08fb983009",
   "metadata": {},
   "outputs": [],
   "source": [
    "from sklearn.decomposition import PCA\n",
    "\n",
    "pca = PCA(n_components=3)\n",
    "X_pca = pca.fit_transform(X)\n",
    "\n",
    "pca_lr = LinearRegression().fit(X_pca, y)\n",
    "y_pca_pred = pca_lr.predict(X_pca)\n",
    "\n",
    "r2_pca = r2_score(y, y_pca_pred)"
   ]
  },
  {
   "cell_type": "code",
   "execution_count": 22,
   "id": "a29b3f17-8d3a-4705-bad3-eba4f962eb13",
   "metadata": {},
   "outputs": [
    {
     "data": {
      "text/plain": [
       "0.7364738543295741"
      ]
     },
     "execution_count": 22,
     "metadata": {},
     "output_type": "execute_result"
    }
   ],
   "source": [
    "r2_pca"
   ]
  }
 ],
 "metadata": {
  "kernelspec": {
   "display_name": "Python 3 (ipykernel)",
   "language": "python",
   "name": "python3"
  },
  "language_info": {
   "codemirror_mode": {
    "name": "ipython",
    "version": 3
   },
   "file_extension": ".py",
   "mimetype": "text/x-python",
   "name": "python",
   "nbconvert_exporter": "python",
   "pygments_lexer": "ipython3",
   "version": "3.9.7"
  }
 },
 "nbformat": 4,
 "nbformat_minor": 5
}
